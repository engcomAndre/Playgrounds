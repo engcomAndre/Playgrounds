{
 "cells": [
  {
   "cell_type": "code",
   "execution_count": 6,
   "metadata": {},
   "outputs": [],
   "source": [
    "import pandas as pd\n",
    "import requests as rq\n",
    "import json"
   ]
  },
  {
   "cell_type": "markdown",
   "metadata": {},
   "source": [
    "# Analisando Código da Carteira do Viver Bem (Avanz e Hapvida) "
   ]
  },
  {
   "cell_type": "markdown",
   "metadata": {},
   "source": [
    "#### Contexto : Códigos Usuários(Carteirinha) inseridos pelos usuários do vivem bem no site da Avanz estão chegando incorretos no aplicativo pois ,não existia uma verificação destes o que impede a validação da biometria pelo aplicativo +1k"
   ]
  },
  {
   "cell_type": "markdown",
   "metadata": {},
   "source": [
    "#### Lendo arquivos / tabelas já com aplicação de ETL"
   ]
  },
  {
   "cell_type": "code",
   "execution_count": 7,
   "metadata": {},
   "outputs": [],
   "source": [
    "#Lendo arquivos / tabelas\n",
    "cadastro_avanz_tratado = pd.read_excel(\"../Tratados/Cadastro_Avanz_Tratado.xlsx\",dtype=str)\n",
    "resultado_consulta_tratado = pd.read_excel(\"../Tratados/Resultado 14 primeiros e ultimos sem repetidos.xlsx\",dtype=str)"
   ]
  },
  {
   "cell_type": "markdown",
   "metadata": {},
   "source": [
    "##### Mostrando 5 linhas do tabela da avanz"
   ]
  },
  {
   "cell_type": "code",
   "execution_count": 40,
   "metadata": {},
   "outputs": [
    {
     "data": {
      "text/html": [
       "<div>\n",
       "<style scoped>\n",
       "    .dataframe tbody tr th:only-of-type {\n",
       "        vertical-align: middle;\n",
       "    }\n",
       "\n",
       "    .dataframe tbody tr th {\n",
       "        vertical-align: top;\n",
       "    }\n",
       "\n",
       "    .dataframe thead th {\n",
       "        text-align: right;\n",
       "    }\n",
       "</style>\n",
       "<table border=\"1\" class=\"dataframe\">\n",
       "  <thead>\n",
       "    <tr style=\"text-align: right;\">\n",
       "      <th></th>\n",
       "      <th>NOME_MAIUSCULO_AVANZ</th>\n",
       "      <th>CPF_AVANZ</th>\n",
       "      <th>CARTEIRINHA_AVANZ</th>\n",
       "      <th>CARTEIRA_14_PRIMEIROS</th>\n",
       "      <th>CARTEIRA_14_ULTIMOS</th>\n",
       "    </tr>\n",
       "  </thead>\n",
       "  <tbody>\n",
       "    <tr>\n",
       "      <th>0</th>\n",
       "      <td>NaN</td>\n",
       "      <td>36935549515</td>\n",
       "      <td>00057701001344000</td>\n",
       "      <td>00057701001344</td>\n",
       "      <td>57701001344000</td>\n",
       "    </tr>\n",
       "    <tr>\n",
       "      <th>1</th>\n",
       "      <td>100646674009</td>\n",
       "      <td>24148415320</td>\n",
       "      <td>00000100646674009</td>\n",
       "      <td>00000100646674</td>\n",
       "      <td>00100646674009</td>\n",
       "    </tr>\n",
       "    <tr>\n",
       "      <th>2</th>\n",
       "      <td>ABNER FREITAS DA SILVA</td>\n",
       "      <td>10976744368</td>\n",
       "      <td>00014375000438005</td>\n",
       "      <td>00014375000438</td>\n",
       "      <td>14375000438005</td>\n",
       "    </tr>\n",
       "    <tr>\n",
       "      <th>3</th>\n",
       "      <td>ADALBERTO ALVES MARTINS</td>\n",
       "      <td>28929837387</td>\n",
       "      <td>3010I460355002</td>\n",
       "      <td>3010I460355002</td>\n",
       "      <td>3010I460355002</td>\n",
       "    </tr>\n",
       "    <tr>\n",
       "      <th>4</th>\n",
       "      <td>ADELINA MELO</td>\n",
       "      <td>01451497300</td>\n",
       "      <td>00030100431752003</td>\n",
       "      <td>00030100431752</td>\n",
       "      <td>30100431752003</td>\n",
       "    </tr>\n",
       "  </tbody>\n",
       "</table>\n",
       "</div>"
      ],
      "text/plain": [
       "      NOME_MAIUSCULO_AVANZ    CPF_AVANZ  CARTEIRINHA_AVANZ  \\\n",
       "0                      NaN  36935549515  00057701001344000   \n",
       "1             100646674009  24148415320  00000100646674009   \n",
       "2   ABNER FREITAS DA SILVA  10976744368  00014375000438005   \n",
       "3  ADALBERTO ALVES MARTINS  28929837387     3010I460355002   \n",
       "4             ADELINA MELO  01451497300  00030100431752003   \n",
       "\n",
       "  CARTEIRA_14_PRIMEIROS CARTEIRA_14_ULTIMOS  \n",
       "0        00057701001344      57701001344000  \n",
       "1        00000100646674      00100646674009  \n",
       "2        00014375000438      14375000438005  \n",
       "3        3010I460355002      3010I460355002  \n",
       "4        00030100431752      30100431752003  "
      ]
     },
     "execution_count": 40,
     "metadata": {},
     "output_type": "execute_result"
    }
   ],
   "source": [
    "cadastro_avanz_tratado.head(5)"
   ]
  },
  {
   "cell_type": "markdown",
   "metadata": {},
   "source": [
    "###### Mostrando 5 linhas do tabela do hapvida"
   ]
  },
  {
   "cell_type": "code",
   "execution_count": 41,
   "metadata": {},
   "outputs": [
    {
     "data": {
      "text/html": [
       "<div>\n",
       "<style scoped>\n",
       "    .dataframe tbody tr th:only-of-type {\n",
       "        vertical-align: middle;\n",
       "    }\n",
       "\n",
       "    .dataframe tbody tr th {\n",
       "        vertical-align: top;\n",
       "    }\n",
       "\n",
       "    .dataframe thead th {\n",
       "        text-align: right;\n",
       "    }\n",
       "</style>\n",
       "<table border=\"1\" class=\"dataframe\">\n",
       "  <thead>\n",
       "    <tr style=\"text-align: right;\">\n",
       "      <th></th>\n",
       "      <th>NOME_MAIUSCULO_CON</th>\n",
       "      <th>CPF_CON</th>\n",
       "      <th>CART_CON</th>\n",
       "    </tr>\n",
       "  </thead>\n",
       "  <tbody>\n",
       "    <tr>\n",
       "      <th>0</th>\n",
       "      <td>NM_PESSOA_RAZAO_SOCIAL</td>\n",
       "      <td>NU_CGC_CPF</td>\n",
       "      <td>CD_CARTEIRA</td>\n",
       "    </tr>\n",
       "    <tr>\n",
       "      <th>1</th>\n",
       "      <td>MARIA ELMA VIEIRA DE SOUZA</td>\n",
       "      <td>NaN</td>\n",
       "      <td>100060490018</td>\n",
       "    </tr>\n",
       "    <tr>\n",
       "      <th>2</th>\n",
       "      <td>MARIA SLVIANA</td>\n",
       "      <td>NaN</td>\n",
       "      <td>2336324158014</td>\n",
       "    </tr>\n",
       "    <tr>\n",
       "      <th>3</th>\n",
       "      <td>MARIA SOCORRO FURTADO MOURA</td>\n",
       "      <td>NaN</td>\n",
       "      <td>6710323934014</td>\n",
       "    </tr>\n",
       "    <tr>\n",
       "      <th>4</th>\n",
       "      <td>MARLON SILVA MARQUES</td>\n",
       "      <td>NaN</td>\n",
       "      <td>19179000099015</td>\n",
       "    </tr>\n",
       "  </tbody>\n",
       "</table>\n",
       "</div>"
      ],
      "text/plain": [
       "            NOME_MAIUSCULO_CON     CPF_CON        CART_CON\n",
       "0       NM_PESSOA_RAZAO_SOCIAL  NU_CGC_CPF     CD_CARTEIRA\n",
       "1   MARIA ELMA VIEIRA DE SOUZA         NaN    100060490018\n",
       "2                MARIA SLVIANA         NaN   2336324158014\n",
       "3  MARIA SOCORRO FURTADO MOURA         NaN   6710323934014\n",
       "4         MARLON SILVA MARQUES         NaN  19179000099015"
      ]
     },
     "execution_count": 41,
     "metadata": {},
     "output_type": "execute_result"
    }
   ],
   "source": [
    "#mostrando 5 linhas do tabela da avanz\n",
    "resultado_consulta_tratado.head(5)"
   ]
  },
  {
   "cell_type": "markdown",
   "metadata": {},
   "source": [
    "###### Mostrando colunas do tabela do Avanz"
   ]
  },
  {
   "cell_type": "code",
   "execution_count": 42,
   "metadata": {},
   "outputs": [
    {
     "data": {
      "text/plain": [
       "Index(['NOME_MAIUSCULO_AVANZ', 'CPF_AVANZ', 'CARTEIRINHA_AVANZ',\n",
       "       'CARTEIRA_14_PRIMEIROS', 'CARTEIRA_14_ULTIMOS'],\n",
       "      dtype='object')"
      ]
     },
     "execution_count": 42,
     "metadata": {},
     "output_type": "execute_result"
    }
   ],
   "source": [
    "cadastro_avanz_tratado.columns"
   ]
  },
  {
   "cell_type": "markdown",
   "metadata": {},
   "source": [
    "#### Mostrando colunas do tabela do Hapvida"
   ]
  },
  {
   "cell_type": "code",
   "execution_count": 43,
   "metadata": {},
   "outputs": [
    {
     "data": {
      "text/plain": [
       "Index(['NOME_MAIUSCULO_CON', 'CPF_CON', 'CART_CON'], dtype='object')"
      ]
     },
     "execution_count": 43,
     "metadata": {},
     "output_type": "execute_result"
    }
   ],
   "source": [
    "resultado_consulta_tratado.columns"
   ]
  },
  {
   "cell_type": "markdown",
   "metadata": {},
   "source": [
    "## Comparações de registros"
   ]
  },
  {
   "cell_type": "markdown",
   "metadata": {},
   "source": [
    "# A comparação dos registros das tabelas será feitos  nos eguintes passos\n",
    "    * 1 Busca do Registro do Usuário por CPF;\n",
    "    * 2 Comparação pelos nomes dos usuários em ambas as tabelas;\n",
    "    * 3 Verificação com o serviço de busca do campo cd pessoa pelo aplicativo +1k;\n",
    "    * 4 Impressão para extensão .csv dos dados corretos;"
   ]
  },
  {
   "cell_type": "markdown",
   "metadata": {},
   "source": [
    "### Listando cpf no cadastro da Avanz"
   ]
  },
  {
   "cell_type": "code",
   "execution_count": 44,
   "metadata": {},
   "outputs": [
    {
     "data": {
      "text/plain": [
       "0    36935549515\n",
       "1    24148415320\n",
       "2    10976744368\n",
       "3    28929837387\n",
       "4    01451497300\n",
       "Name: CPF_AVANZ, dtype: object"
      ]
     },
     "execution_count": 44,
     "metadata": {},
     "output_type": "execute_result"
    }
   ],
   "source": [
    "#Listar cpf avanz\n",
    "lista_cpfs = cadastro_avanz_tratado.CPF_AVANZ\n",
    "lista_cpfs[:5]"
   ]
  },
  {
   "cell_type": "markdown",
   "metadata": {},
   "source": [
    "#### Buscando Registro pelo CPF da tabela da Avanz\n"
   ]
  },
  {
   "cell_type": "code",
   "execution_count": 45,
   "metadata": {},
   "outputs": [
    {
     "data": {
      "text/html": [
       "<div>\n",
       "<style scoped>\n",
       "    .dataframe tbody tr th:only-of-type {\n",
       "        vertical-align: middle;\n",
       "    }\n",
       "\n",
       "    .dataframe tbody tr th {\n",
       "        vertical-align: top;\n",
       "    }\n",
       "\n",
       "    .dataframe thead th {\n",
       "        text-align: right;\n",
       "    }\n",
       "</style>\n",
       "<table border=\"1\" class=\"dataframe\">\n",
       "  <thead>\n",
       "    <tr style=\"text-align: right;\">\n",
       "      <th></th>\n",
       "      <th>NOME_MAIUSCULO_AVANZ</th>\n",
       "      <th>CPF_AVANZ</th>\n",
       "      <th>CARTEIRINHA_AVANZ</th>\n",
       "      <th>CARTEIRA_14_PRIMEIROS</th>\n",
       "      <th>CARTEIRA_14_ULTIMOS</th>\n",
       "    </tr>\n",
       "  </thead>\n",
       "  <tbody>\n",
       "    <tr>\n",
       "      <th>9</th>\n",
       "      <td>ALDIBERTO SALES DA COSTA</td>\n",
       "      <td>51391260368</td>\n",
       "      <td>00006710304212009</td>\n",
       "      <td>00006710304212</td>\n",
       "      <td>06710304212009</td>\n",
       "    </tr>\n",
       "  </tbody>\n",
       "</table>\n",
       "</div>"
      ],
      "text/plain": [
       "       NOME_MAIUSCULO_AVANZ    CPF_AVANZ  CARTEIRINHA_AVANZ  \\\n",
       "9  ALDIBERTO SALES DA COSTA  51391260368  00006710304212009   \n",
       "\n",
       "  CARTEIRA_14_PRIMEIROS CARTEIRA_14_ULTIMOS  \n",
       "9        00006710304212      06710304212009  "
      ]
     },
     "execution_count": 45,
     "metadata": {},
     "output_type": "execute_result"
    }
   ],
   "source": [
    "#Buscando Registro pelo CPF\n",
    "#Pegando Registro da base da Avanz\n",
    "registro_avanz = cadastro_avanz_tratado.loc[cadastro_avanz_tratado.CPF_AVANZ == lista_cpfs[9]]\n",
    "registro_avanz"
   ]
  },
  {
   "cell_type": "markdown",
   "metadata": {},
   "source": [
    "#### Buscando Registro pelo CPF da tabela do Hapvida "
   ]
  },
  {
   "cell_type": "code",
   "execution_count": 46,
   "metadata": {},
   "outputs": [
    {
     "data": {
      "text/html": [
       "<div>\n",
       "<style scoped>\n",
       "    .dataframe tbody tr th:only-of-type {\n",
       "        vertical-align: middle;\n",
       "    }\n",
       "\n",
       "    .dataframe tbody tr th {\n",
       "        vertical-align: top;\n",
       "    }\n",
       "\n",
       "    .dataframe thead th {\n",
       "        text-align: right;\n",
       "    }\n",
       "</style>\n",
       "<table border=\"1\" class=\"dataframe\">\n",
       "  <thead>\n",
       "    <tr style=\"text-align: right;\">\n",
       "      <th></th>\n",
       "      <th>NOME_MAIUSCULO_CON</th>\n",
       "      <th>CPF_CON</th>\n",
       "      <th>CART_CON</th>\n",
       "    </tr>\n",
       "  </thead>\n",
       "  <tbody>\n",
       "    <tr>\n",
       "      <th>12</th>\n",
       "      <td>ALDIBERTO SALES DA COSTA</td>\n",
       "      <td>51391260368</td>\n",
       "      <td>6710304212009</td>\n",
       "    </tr>\n",
       "  </tbody>\n",
       "</table>\n",
       "</div>"
      ],
      "text/plain": [
       "          NOME_MAIUSCULO_CON      CPF_CON       CART_CON\n",
       "12  ALDIBERTO SALES DA COSTA  51391260368  6710304212009"
      ]
     },
     "execution_count": 46,
     "metadata": {},
     "output_type": "execute_result"
    }
   ],
   "source": [
    "#Buscando Registro pelo CPF\n",
    "#Pegando Registro da base do hapvida\n",
    "registro_consulta = resultado_consulta_tratado.loc[resultado_consulta_tratado.CPF_CON == lista_cpfs[9]]\n",
    "registro_consulta"
   ]
  },
  {
   "cell_type": "markdown",
   "metadata": {},
   "source": [
    "## Realizando Comparações e Imprimindo resultados corretos"
   ]
  },
  {
   "cell_type": "code",
   "execution_count": 47,
   "metadata": {},
   "outputs": [
    {
     "name": "stdout",
     "output_type": "stream",
     "text": [
      "ABNER FREITAS DA SILVA,10976744368,00014375000438005,14375000438005\n",
      "ALBENIZA FERREIRA PASSOS,53270959320,00000100264014004,100264014004\n",
      "ALDIBERTO SALES DA COSTA,51391260368,00006710304212009,6710304212009\n",
      "ALINE BARROS DE SOUZA,78506832349,67799000028007000,67799000028007\n",
      "ALINE MORAIS DE ALBUQUERQUE,98767780300,01ITZ000010006,01ITZ000010006\n",
      "ALUISIO DE SOUSA RODRIGUES,44145969391,00025976000224003,25976000224003\n",
      "ALZIRA GOMES DA SILVA,43001602368,00004284102886003,4284102886003\n",
      "ANA CRISTINA LOPES SILVA,54603749368,00000100878104000,100878104000\n",
      "ANA KATIA XIMENES DO AMARAL,52492516334,000B4574000057010,B4574000057010\n",
      "ANA MARTA ROCHA PEIXOTO,26485753320,00000100900104000,100900104000\n",
      "ANA VALERIA SOUSA DA SILVA,79820131391,00006166000291000,6166000291000\n",
      "ANDRE LUIS DA COSTA,74565532387,00008969000002002,8969000002002\n",
      "ANDRE LUIS ROCHA DA SILVA,35768118349,57759000227000000,57759000227000\n",
      "ANDREA PINHO NUNES TABOSA,91310270325,00030100782283005,30100782283005\n",
      "ANGELA MARIA CANDIDO DA SILVA CRISOSTOMO,44236980304,00002DCW006931006,02DCW006931006\n",
      "ANGELA MARIA DO VALE FACANHA,18885926304,A8301000029009,A8301000029009\n",
      "ANTONIA FERREIRA DE ALMEIDA ALVES,10782450881,00000100962229000,100962229000\n",
      "ANTONIETA RITA DA SILVA,14068222304,00000100664204027,100664204027\n",
      "ANTONIO FERNANDO FERREIRA RABELO,35895187315,00004794166626006,4794166626006\n",
      "ANTONIO GERMANO FERREIRA DE QUEIROZ,38070316349,00007056000096005,7056000096005\n",
      "ANTONIO HEITOR ANDRADE JUNIOR,60035607386,00000100909323014,100909323014\n",
      "ANTONIO LUCIANO MOREIRA,10758291353,00000100043928027,100043928027\n",
      "ANTONIO TUPINAMBA DA SILVA,59338105768,00008123000128003,8123000128003\n",
      "BENEDITA MARIA DOS SANTOS,48282707104,00000100970155010,100970155010\n",
      "BENILTON OLEGARIO FELIPE,26716704353,00000100649942004,100649942004\n",
      "CARLOS ALBERTO DA SILVA MAGALHAES,10488987334,00000100018449005,100018449005\n",
      "CARLOS CLAYTON BRAGA,68042825315,00008532001284000,8532001284000\n",
      "CARLOS MARDONIO ARRUDA MACIEL,50583484387,00002T8S000001007,02T8S000001007\n",
      "CARLOS ROBERTO DE BARROS,38799499991,80001002572008000,80001002572008\n",
      "CASSIO DE PAULA MONTEIRO,75233878372,3010I460355002,3010I460355002\n",
      "CLAUDETE VAZ AGUIAR,72615842315,00000100895322028,100895322028\n",
      "CLENILDA SOUSA BRUNO ARAUJO,78007364315,00000100311078014,100311078014\n",
      "CRISTIANE VASCONCELOS PAULA,62439120359,00008532003457017,8532003457017\n",
      "DANIELA RODRIGUES DE SOUSA,80120580306,0003010I504666004,3010I504666004\n",
      "DANIELE LIMA DOS ANJOS,61965480349,00003394000300019,3394000300019\n",
      "DELFINA RAMOS DOS SANTOS,41158008520,81223008445000000,81223008445000\n",
      "DEUSDETE BASTOS SILVA,80059503300,60514000839005000,60514000839005\n",
      "DIONISIO SOUSA JUNIOR,36023680330,67300000736007000,67300000736007\n",
      "EDILSON SILVA PEREIRA,61365858391,03GII000008001,03GII000008001\n",
      "EDINALVA MARIA DA SILVA,91882583434,0003010I588989012,3010I588989012\n",
      "EDNA MARIA COSTA,90840623704,02IUD000006009013,02IUD000006009\n",
      "EDVAR GOMES DE SOUSA,70135657334,00008532002030001,8532002030001\n",
      "ELIANE DE ANDRADE OLIVEIRA,59479094487,00000100064240008,100064240008\n",
      "ELIEZER PAULO DOS SANTOS,38210240382,00003HL6000003000,03HL6000003000\n",
      "ELTON FRANCISCO DOS SANTOS BASTOS,66829968372,00002T9Z000372005,02T9Z000372005\n",
      "ERICO BRITO COSTA,88937941368,02IUR000037001014,02IUR000037001\n",
      "ERIVALDO INACIO DE SOUSA,13637908387,A8301000140007,A8301000140007\n",
      "ESTEFANIA LIMA RODRIGUES,79564623391,69960000038016000,69960000038016\n",
      "EVALDO DO NASCIMENTO RODRIGUES,29983037300,00000100048062010,100048062010\n",
      "EVANDO MARQUES DOS SANTOS,23074175320,00099017000103005,99017000103005\n",
      "EVERALDO SOARES SILVA,96149744353,00003PV2000332003,03PV2000332003\n",
      "EVERTON LIMA DA SILVA,97252913368,00000100898266021,100898266021\n",
      "EXPEDITO PEREIRA FROTA,26158477320,00000209000190000,209000190000\n",
      "FABRISIA MARIA BEZERRA AGUIAR,24908223300,00002DCW007365004,02DCW007365004\n",
      "FLAVIA ROBERTA DE OLIVEIRA BRAGA,87802066387,00000100983143008,100983143008\n",
      "FLAVIO ALVES DOS SANTOS,44872992334,000B4367000007005,B4367000007005\n",
      "FLAVIO COSTA DOS SANTOS,23410779353,B5178000040002,B5178000040002\n",
      "FRANCILENE DE PAIVA SOUZA,61688762353,037FU000011002011,037FU000011002\n",
      "FRANCILEUDA DE PAIVA SOUSA DOS SANTOS,37766023334,000037FU000013005,037FU000013005\n",
      "FRANCISCA AILA BARBOSA DE QUEIROZ CARVALHO,72632569320,03C9U000008001000,03C9U000008001\n",
      "FRANCISCA ANALIA BEZERRA RIBEIRO,22886630306,00003339440976049,3339440976049\n",
      "FRANCISCA CONCEICAO MOTA BENTO,76026671315,30100663147004000,30100663147004\n",
      "FRANCISCA HERBENE MAGALHAES DE SOUSA,39131130372,0003010I611910002,3010I611910002\n",
      "FRANCISCA MARIA RODRIGUES LEITE,49198548387,00009637000021010,9637000021010\n",
      "FRANCISCA OLIVEIRA DE ALMEIDA,78892783300,00034663000001009,34663000001009\n",
      "FRANCISCA SILVANA CAETANO DE QUEIROZ,24563498300,00001053089657029,1053089657029\n",
      "FRANCISCA SILVANIRA DE ALMEIDA,18645690349,00000100628290008,100628290008\n",
      "FRANCISCA VALQUIRIA DOS SANTOS,57439540387,00081105000692005,81105000692005\n",
      "FRANCISCO ANDERSON VIANA NASCIMENTO,60023144319,031F4000023000019,031F4000023000\n",
      "FRANCISCO AVANALDO JUCA,29964300344,00020931000493000,20931000493000\n",
      "FRANCISCO BORGES RIBEIRO,44106734320,00006710000125000,6710000125000\n",
      "FRANCISCO CANDIDO DE OLIVEIRA FILHO,61718041349,00084153000048000,84153000048000\n",
      "FRANCISCO DAS CHAGAS PEREIRA,31782329315,00001915000177004,1915000177004\n",
      "FRANCISCO DE ASSIS DE ALMEIDA,11779667353,00002302118217000,2302118217000\n",
      "FRANCISCO HELIOMAR FREIRE DE ARAUJO,19176309304,00003494489108005,3494489108005\n",
      "FRANCISCO IRANDIR DA SILVA,39007570382,00000100842022003,100842022003\n",
      "FRANCISCO IVAN COSTA DO NASCIMENTO,70400679434,00008532003443008,8532003443008\n",
      "FRANCISCO LEONARDO NASCIMENTO DA SILVA,56011920306,00000459006105008,459006105008\n",
      "FRANCISCO PAULO FERREIRA MARTINS,72813750344,000B1561000753009,B1561000753009\n",
      "FRANCISCO PERBOYRE MARQUES DA CUNHA,40006565700,3010I499186023,3010I499186023\n",
      "FRANCISCO SODRE DE SOUZA FERREIRA,89990323372,000A8030000014001,A8030000014001\n",
      "GECILIO MARQUES DA SILVA,11375612387,00000100275490007,100275490007\n",
      "GEMA GALGANI RIBEIRO COSTA,40400662353,00000100978130009,100978130009\n",
      "GILDO COELHO DE SOUSA,35543744315,00004284399294048,4284399294048\n",
      "GILMAR DE ALBUQUERQUE SOUSA,75989670320,57752001331005000,57752001331005\n",
      "GILMAR DE ALBUQUERQUE SOUSA,75989670320,57752001331005000,57752001331005\n",
      "GILZENILDA NAIR DE LIMA PORTO,70143161334,57704000456028000,57704000456028\n",
      "GISELE FELIPE BRAGA,31054293368,039QZ000044008000,039QZ000044008\n",
      "GLAUCELINE DOS SANTOS,81349440353,81722000088004000,81722000088004\n",
      "GLAUCIA MARIA ALVES DE SOUSA,10318020378,00006581002239011,6581002239011\n",
      "HUMBERTO JORGE DE FARIAS,42396875353,02KDT000101001,02KDT000101001\n",
      "INEZ VELMA SOARES BEZERRA,38404079315,026GE000001007,026GE000001007\n",
      "IRACEMA LIMA MAIA,11874325391,30100463500000000,30100463500000\n",
      "ISABEL DA SILVA,22950168353,00005005742758013,5005742758013\n",
      "ISLAY BARBOSA DA SILVA,26485966315,00001096101433001,1096101433001\n",
      "IVANIRA DE ALMEIDA LIMA,10741602822,00000100314688000,100314688000\n",
      "JACIRA MARIA MAGALHAES MELO,23481803320,00000100252602003,100252602003\n",
      "JAMILLE ROCHA DE SOUSA,75514362353,00000100897305015,100897305015\n",
      "JEAN MESQUITA BEZERRA,73824461315,00009240000012006,9240000012006\n",
      "JOCILE FREITAS RIBEIRO,46089730378,00000459030440008,459030440008\n",
      "JORGE LUCIO TAVARES GUIMARAES,45451222304,00000100774130008,100774130008\n",
      "JOSE CARLOS BARROSO GADELHA FILHO,23081651387,B6100000141011017,B6100000141011\n",
      "JOSE CAVALCANTE DO AMARAL,35037423449,00002513362550062,2513362550062\n",
      "JOSE CICERO DOS SANTOS,98457780387,44938002612002000,44938002612002\n",
      "JOSE CLAILTON MAIA ALVES,50066358353,0000305D000005002,0305D000005002\n",
      "JOSE DARIO ALMEIDA DOS SANTOS,29594235349,00008532000463008,8532000463008\n",
      "JOSE EDILSON DO NASCIMENTO MENDES,29776252320,81097000045006000,81097000045006\n",
      "JOSE EDMILSON LIMA DE OLIVEIRA,36728640720,00000100936712000,100936712000\n",
      "JOSE JAYME VASCONCELOS GUIMARAES,19462280282,00000100501374008,100501374008\n",
      "JOSE JUSCELINO DA SILVA FERREIRA,38404257353,000031F4000320005,031F4000320005\n",
      "JOSE TADEU DOS SANTOS VALENCIANO,62354566387,88909000081000000,88909000081000\n",
      "JOSE TEMOTEO VALENCIO TORRES,73295213372,00000100583407010,100583407010\n",
      "JOSE WILKER SILVA TELES,68745532320,00002115003224004,2115003224004\n",
      "JOSIMARIA DE SOUSA OLIVEIRA,40828387320,19726000382018000,19726000382018\n",
      "JULIO CESAR MENEZES DE MORAES,47245611491,00006102000605007,6102000605007\n",
      "KARINE CAVALCANTE MARQUES,44897294304,00000100920950003,100920950003\n",
      "KATIUSCIA MESQUITA DE PAIVA,79758924320,3010I410251009000,3010I410251009\n",
      "KLEBER JOSE ALVES DE LIMA,51043700382,00003942000398007,3942000398007\n",
      "LEILA MARIA SILVA GADELHA,70792623304,00000100148169009,100148169009\n",
      "LEO CAMPOS ARAGAO,69591164300,00081988000128017,81988000128017\n",
      "LEONARDO CARMO DOS SANTOS,71361626372,000035S5000003000,035S5000003000\n",
      "LEONARDO LOPES NORONHA,24796492372,0003010I562939000,3010I562939000\n",
      "LIDIANE MAGALHAES DOS SANTOS,97560090397,000037I7000007005,037I7000007005\n",
      "LIONETE RIBEIRO DA SILVA,11815922320,0003010I472677000,3010I472677000\n",
      "LUCIA MOURA DIAS,86624350334,00000100950197001,100950197001\n",
      "LUCIANO RODRIGUES DA SILVA,23574500378,00000100269036006,100269036006\n",
      "LUCIANO TEIXEIRA DO NASCIMENTO,17431366841,00000100414935005,100414935005\n",
      "LUCILEIDE LIMA DE OLIVEIRA DE SOUSA,24216542387,00008532002236017,8532002236017\n",
      "LUCIMAR COELHO DE SOUSA,31430538368,00002DCW007804008,02DCW007804008\n",
      "LUCIMAR SILVA PINHEIRO,16794877368,3010I007872003,3010I007872003\n",
      "LUIS RODRIGUES DA SILVA,39174760378,00070635000010000,70635000010000\n",
      "LUIZA EMANUELE MONTEIRO DE CARVALHO,95971599372,81200008280007000,81200008280007\n",
      "LUZIA GRIGORIO RODRIGUES,27276724387,00000100493015028,100493015028\n",
      "MANOEL RAIMUNDO DOS SANTOS,38198118349,000A8413000084000,A8413000084000\n",
      "MANOEL XIMENES VASCONCELOS,69965927391,00000100915627003,100915627003\n",
      "MARA MICHELE LOPES MAIA,73420948387,B4719000055018,B4719000055018\n",
      "MARCELO BRITO DE ARAGAO,79127460304,00001096000635010,1096000635010\n",
      "MARCELO LOMONACO,21854645315,00000100814534003,100814534003\n",
      "MARCONE CASSIANO FEIJAO,15396339349,00007043000024006,7043000024006\n"
     ]
    },
    {
     "name": "stdout",
     "output_type": "stream",
     "text": [
      "MARCOS ANTONIO NOGUEIRA LOPES,28973275372,00000100638969011,100638969011\n",
      "MARCOS ANTONIO QUINTELA DE MOURA,52521800325,00008532001608000,8532001608000\n",
      "MARIA APARECIDA ARAUJO MARTINS,19066848391,00003762000046005,3762000046005\n",
      "MARIA AURILEIDE FERREIRA ALVES,74893459368,02T9Z000245003025,02T9Z000245003\n",
      "MARIA DA CONCEICAO AVELINO SILVA,25849891315,00004284006489000,4284006489000\n",
      "MARIA DA PAZ VIEIRA BOTO,24593036372,00000459001158006,459001158006\n",
      "MARIA DE FATIMA DO NASCIMENTO ALMEIDA,36762172334,0000043A000001007,0043A000001007\n",
      "MARIA DE FATIMA MEDEIROS DE ALMEIDA,23451831368,00000100347196009,100347196009\n",
      "MARIA DE LOURDES DOS REIS,26230917300,00000100968939000,100968939000\n",
      "MARIA DEUSELITE DO VALE GADELHA,11697075304,B6100000141003014,B6100000141003\n",
      "MARIA DO CARMO BENTO DE SOUSA,12315354315,00008532001294013,8532001294013\n",
      "MARIA DO LIVRAMENTO MARTINS REIS,75864541320,00003764001315039,3764001315039\n",
      "MARIA DO SOCORRO GOMES DE LIMA,21335427368,0003010I610769004,3010I610769004\n",
      "MARIA DO SOCORRO MARTINS DE SOUSA,17018358353,00003494488985029,3494488985029\n",
      "MARIA DO SOCORRO SANTOS RAMOS,41615204334,00008613000001004,8613000001004\n",
      "MARIA DO SOCORRO SILVA,17380693387,00004794166764018,4794166764018\n",
      "MARIA ELISETE GARCES TAVARES,79545343320,00000100871786008,100871786008\n",
      "MARIA ELIZABETE FERREIRA DOS SANTOS PEQUENO,60123722306,00000795000471013,795000471013\n",
      "MARIA EUNICE MONTEIRO VIEIRA,15493970368,00008532000429004,8532000429004\n",
      "MARIA GERCILEIDE DE FREITAS MIRANDA,87578670387,0003010I500207013,3010I500207013\n",
      "MARIA GLEUBA BARBOSA CAMARA,29331773315,00000100513643009,100513643009\n",
      "MARIA GORETE DE SOUSA COSTA,92249779368,00000209000417013,209000417013\n",
      "MARIA ITAMAR BARROZO MENDES,24706566304,00000100329182000,100329182000\n",
      "MARIA IVONE NUNES COELHO DE OLIVEIRA,26226308320,00008532001572013,8532001572013\n",
      "MARIA IVONEIDE PEREIRA DA SILVA,78046491349,00002VV4000486000,02VV4000486000\n",
      "MARIA IVONETE FREIRES DE CARVALHO,20391897349,00007619000220015,7619000220015\n",
      "MARIA JOSE MEDEIROS DE OLIVEIRA,16725220304,00022351000319009,22351000319009\n",
      "MARIA JOSE TOMAZ DE LIMA DA SILVA,77736648387,00000459399226018,459399226018\n",
      "MARIA LEDA DA SILVA,61018880291,000A2624000001015,A2624000001015\n",
      "MARIA MARINEIDE ABREU CASTELO BRANCO,82683980353,0000326M000028002,0326M000028002\n",
      "MARIA NILMA DE CASTRO,48711900300,00004284741939014,4284741939014\n",
      "MARIA ROSENI DA COSTA VENANCIO,54233933372,00004284005288036,4284005288036\n",
      "MARIA SIMONE DE AMORIM BRAGA,81781814368,00008532002584015,8532002584015\n",
      "MARIA SIQUEIRA DE FREITAS,43391605391,0003010I219452000,3010I219452000\n",
      "MARIA SOARES FERREIRA DA SILVA,38456338320,000B4926000007005,B4926000007005\n",
      "MARIA SUEILIR CABOCLO FLOR,67402917304,03ILF000197025000,03ILF000197025\n",
      "MARIA SUZENI DE OLIVEIRA,70162239300,00006165000017008,6165000017008\n",
      "MARIA VANDERLI DE ALENCAR GURGEL,16475844349,00000100104106001,100104106001\n",
      "MARIA VIDAL DE SOUSA OLIVEIRA,30192862391,3010I561977005014,3010I561977005\n",
      "MARILANA OLIVEIRA BARRETO,23152885334,00030100772677000,30100772677000\n",
      "MARILDE COSTA DE ALMEIDA,50185411304,23640000032009000,23640000032009\n",
      "MARLEIDE DANTAS DOS SANTOS,61656640325,00004284004244000,4284004244000\n",
      "MARTA BRANDAO DE SOUSA COSTA,32142960359,00006102000945002,6102000945002\n",
      "MAURO DE VASCONCELOS GOMES,14162768315,00000100214090009,100214090009\n",
      "MAYBLINA PEREIRA DA COSTA,93838042387,00022968000021000,22968000021000\n",
      "MICHELLE LEITE BRIGIDO,73318388300,00082257000001025,82257000001025\n",
      "MIKAEL DE OLIVEIRA MONTEIRO,66187753372,0003010I403690019,3010I403690019\n",
      "MOISES ARAUJO CUNHA,27813126300,00037375000040002,37375000040002\n",
      "NECY EUNICE DA ROCHA,43368131320,80001001913006000,80001001913006\n",
      "NIVEA SALDANHA MOTA LIMA,84405171300,00EBU000001007,00EBU000001007\n",
      "PAULO MARTINS DE OLIVEIRA,72568976349,000B0347000606006,B0347000606006\n",
      "PAULO SALGADO DO NASCIMENTO,35644257304,00008532003148006,8532003148006\n",
      "PEDRO BARROSO,48408638300,03IW0000001015000,03IW0000001015\n",
      "PEDRO LUIZ RODRIGUES FILHO,31607772353,00006102000716003,6102000716003\n",
      "PEDRO RENATO DA SILVA FIUZA,11334509387,00002644717352006,2644717352006\n",
      "RAIMUNDA SILVANDIRA ARAUJO CARNEIRO,26680327334,00000100716366002,100716366002\n",
      "RAIMUNDO NONATO DO NASCIMENTO,72053186372,000B2685000055000,B2685000055000\n",
      "RAIMUNDO NONATO MACAMBIRA,60804505772,00008532002908007,8532002908007\n",
      "REGINA MARIA ALVES FERREIRA,44731213304,00008532000939010,8532000939010\n",
      "RISIA BARBOSA DE MENEZES,36321893587,30100700785001/01,30100700785001\n",
      "ROBERIO FROTA SOUTO,23153539391,00000100665022020,100665022020\n",
      "ROBERTA LETICIA RIBEIRO DA COSTA,62402528320,00000100951802006,100951802006\n",
      "ROGERIA MARIA SETUBAL OLIVEIRA,77580907372,00000100942430002,100942430002\n",
      "ROGERIO DA COSTA SANTOS,86687573349,00003494000199003,3494000199003\n",
      "RONNIEL ALVES PUCCI DE MESQUITA,56775202334,00002HEN000002003,02HEN000002003\n",
      "SALVIANO JORGE DE LIMA MOREIRA,45724695391,00068978001558005,68978001558005\n",
      "SEBASTIAO DE SOUSA LIMA,24873756391,00000100031191008,100031191008\n",
      "SERGIO BRESSY DOS SANTOS,61043230734,0391E000077003,0391E000077003\n",
      "SIDNEY MUELLER,38836688934,00000100470689006,100470689006\n",
      "SONIA MARIA CANDIDO DE SOUSA,93718195372,000010S0000006009,010S0000006009\n",
      "STEFANYO GOMES DE QUEIROZ,60006661360,00000100518934001,100518934001\n",
      "SUELI DE SOUSA BRAGA,39204391391,00000100925485015,100925485015\n",
      "SUZANA AGUIAR,62411918372,00009884000060008,9884000060008\n",
      "TANIA CLEIA SOUSA DAMASCENO,32212348304,00000100697802004,100697802004\n",
      "TEREZA CRISPIM NUNES,51818000334,0003010I245909004,3010I245909004\n",
      "TEREZA CRISTINA ALVES DA ROCHA,26815893391,00000100780114000,100780114000\n",
      "TEREZINHA FEITOSA DOS SANTOS,74913670387,000035S5000003018,035S5000003018\n",
      "TEREZINHA PINTO ALVE DA SILVA,23449403320,16391000296017000,16391000296017\n",
      "VALDELICE HOLANDA LIMA TAVARES,79646794300,00008532002629019,8532002629019\n",
      "VALDENICE MARIA SOUZA DA CUNHA,62271547334,00030100848600000,30100848600000\n",
      "VANIA MARIA VASCONCELOS MARTINS,42374766349,00000100288336001,100288336001\n",
      "VERONICA DA COSTA MOTA,71240438320,00001NIK000001007,01NIK000001007\n",
      "VICENTE PAULO RAMOS TORRES,15392821391,00005547735284009,5547735284009\n",
      "VIVIAN MARIA LIMA DE SOUZA,29395285869,80447000661012000,80447000661012\n",
      "WASHINGTON LUIS DA SILVA BARBOSA,84412933334,44937000235018000,44937000235018\n"
     ]
    }
   ],
   "source": [
    "# Comparações\n",
    "for cpf in lista_cpfs:\n",
    "    register_avanz,register_consulta =  cadastro_avanz_tratado.loc[cadastro_avanz_tratado.CPF_AVANZ == cpf],resultado_consulta_tratado.loc[resultado_consulta_tratado.CPF_CON == cpf]\n",
    "    eval_nome = (register_avanz[\"NOME_MAIUSCULO_AVANZ\"].values == register_consulta[\"NOME_MAIUSCULO_CON\"].values)\n",
    "    if(eval_nome.size > 0 and eval_nome[0]):\n",
    "        print(\"{},{},{},{}\".format(register_avanz[\"NOME_MAIUSCULO_AVANZ\"].values[0],register_avanz[\"CPF_AVANZ\"].values[0],register_avanz[\"CARTEIRINHA_AVANZ\"].values[0],register_consulta[\"CART_CON\"].values[0]))\n",
    "    "
   ]
  },
  {
   "cell_type": "markdown",
   "metadata": {},
   "source": [
    "### Definindo arrays para armazenar resultados"
   ]
  },
  {
   "cell_type": "code",
   "execution_count": 13,
   "metadata": {},
   "outputs": [],
   "source": [
    "names = []\n",
    "cpfs = []\n",
    "carts_avanz = []\n",
    "carts_hapvida = []\n",
    "res_servico = []\n",
    "lista_cpfs = []"
   ]
  },
  {
   "cell_type": "markdown",
   "metadata": {},
   "source": [
    "### Inicializando dados de entradas"
   ]
  },
  {
   "cell_type": "code",
   "execution_count": 14,
   "metadata": {},
   "outputs": [],
   "source": [
    "def iniciando_valores():\n",
    "    names = []\n",
    "    cpfs = []\n",
    "    carts_avanz = []\n",
    "    carts_hapvida = []\n",
    "    res_servico = []   \n",
    "    lista_cpfs = cadastro_avanz_tratado.CPF_AVANZ\n",
    "    return lista_cpfs"
   ]
  },
  {
   "cell_type": "markdown",
   "metadata": {},
   "source": [
    "### Definindo métodos de busca usuário por cpf"
   ]
  },
  {
   "cell_type": "code",
   "execution_count": 10,
   "metadata": {},
   "outputs": [],
   "source": [
    "def comparar_registro_por_cpf(cpf):\n",
    "    register_avanz,register_consulta =  cadastro_avanz_tratado.loc[cadastro_avanz_tratado.CPF_AVANZ == cpf],resultado_consulta_tratado.loc[resultado_consulta_tratado.CPF_CON == cpf]\n",
    "    register_avanz,register_consulta =  cadastro_avanz_tratado.loc[cadastro_avanz_tratado.CPF_AVANZ == cpf],resultado_consulta_tratado.loc[resultado_consulta_tratado.CPF_CON == cpf]\n",
    "    eval_nome = (register_avanz[\"NOME_MAIUSCULO_AVANZ\"].values == register_consulta[\"NOME_MAIUSCULO_CON\"].values)\n",
    "    if(eval_nome.size > 0 and eval_nome[0]):\n",
    "        nome = register_avanz[\"NOME_MAIUSCULO_AVANZ\"].values[0]\n",
    "        cpf = register_avanz[\"CPF_AVANZ\"].values[0]\n",
    "        cart_cad_avanz = register_avanz[\"CARTEIRINHA_AVANZ\"].values[0]\n",
    "        cart_con = register_consulta[\"CART_CON\"].values[0]    \n",
    "        return nome,cpf,cart_cad_avanz,cart_con\n",
    "    else:\n",
    "        return None,None,None,None\n",
    "  "
   ]
  },
  {
   "cell_type": "markdown",
   "metadata": {},
   "source": [
    "###  Definindo método buscar dados do serviço consumido pelo app +1k"
   ]
  },
  {
   "cell_type": "code",
   "execution_count": 11,
   "metadata": {},
   "outputs": [],
   "source": [
    "base_url = \"http://app.hapvida.com.br/api/medprev/hapvida/medprevws/usuario/codigoUsuario/\"\n",
    "def buscar_dados_servico(cod_carteirinha):\n",
    "    url = base_url + str(cod_carteirinha)\n",
    "    response = rq.get(url)\n",
    "    if(response.json()[\"sucesso\"] == True):\n",
    "        nomePessoaRazaoSocial = response.json()[\"conteudo\"]['pessoa']['nomePessoaRazaoSocial']\n",
    "        cpf_service = response.json()[\"conteudo\"]['pessoa']['cpf']\n",
    "        cod_usuario = response.json()[\"conteudo\"]['codigoUsuario']\n",
    "        return nomePessoaRazaoSocial,cpf_service,cod_usuario\n",
    "    else :\n",
    "        return None,None,None\n"
   ]
  },
  {
   "cell_type": "markdown",
   "metadata": {},
   "source": [
    "### Comparando dados das tabelas com os fornecidos pelo serviço"
   ]
  },
  {
   "cell_type": "code",
   "execution_count": null,
   "metadata": {},
   "outputs": [],
   "source": [
    "def verificar_dados():\n",
    "    lista_cpfs = iniciando_valores()\n",
    "    for cpf in lista_cpfs:\n",
    "        nome,cpf,cart_avanz,cart_con = comparar_registro_por_cpf(cpf)\n",
    "        nomePessoaRazaoSocial,cpf_service,cod_usuario = buscar_dados_servico(cart_con)\n",
    "        if(nome == nomePessoaRazaoSocial and cpf_service == cpf and cod_usuario == cart_con):\n",
    "            names.append(nomePessoaRazaoSocial)\n",
    "            cpfs.append(cpf_service)\n",
    "            carts_avanz.append(cart_avanz)\n",
    "            carts_hapvida.append(cart_con)\n",
    "            res_servico.append(\"OK\")\n",
    "            print(\"ok\")\n",
    "           \n",
    "        else:\n",
    "            print(nomePessoaRazaoSocial,nome,cpf_service,cpf,cod_usuario,cart_con)\n",
    "            input('VERIFICAR')   \n",
    "          "
   ]
  },
  {
   "cell_type": "code",
   "execution_count": null,
   "metadata": {},
   "outputs": [],
   "source": [
    "verificar_dados()"
   ]
  },
  {
   "cell_type": "code",
   "execution_count": 55,
   "metadata": {},
   "outputs": [],
   "source": [
    "#Comparando dados vindos fornecidos [FILTRAGEM PELO NOME,CPF,CÓDIGO CARTEIRINHA]\n",
    "\n",
    "base_url = \"http://app.hapvida.com.br/api/medprev/hapvida/medprevws/usuario/codigoUsuario/\"\n",
    "\n",
    "for cpf in lista_cpfs:\n",
    "    register_avanz,register_consulta =  cadastro_avanz_tratado.loc[cadastro_avanz_tratado.CPF_AVANZ == cpf],resultado_consulta_tratado.loc[resultado_consulta_tratado.CPF_CON == cpf]\n",
    "    eval_nome = (register_avanz[\"NOME_MAIUSCULO_AVANZ\"].values == register_consulta[\"NOME_MAIUSCULO_CON\"].values)\n",
    "    if(eval_nome.size > 0 and eval_nome[0]):\n",
    "        nome = register_avanz[\"NOME_MAIUSCULO_AVANZ\"].values[0]\n",
    "        cpf = register_avanz[\"CPF_AVANZ\"].values[0]\n",
    "        cart_cad_avanz = register_avanz[\"CARTEIRINHA_AVANZ\"].values[0]\n",
    "        cart_con = register_consulta[\"CART_CON\"].values[0]\n",
    "        \n",
    "        url = base_url + str(register_consulta[\"CART_CON\"].values[0])\n",
    "        \n",
    "        response = rq.get(url)\n",
    "\n",
    "        if(response.json()[\"sucesso\"] == True):\n",
    "            nomePessoaRazaoSocial = response.json()[\"conteudo\"]['pessoa']['nomePessoaRazaoSocial']\n",
    "            cpf_service = response.json()[\"conteudo\"]['pessoa']['cpf']\n",
    "            cod_usuario = response.json()[\"conteudo\"]['codigoUsuario']\n",
    "            print(\"ok\")\n",
    "\n",
    "            if(not(nome == nomePessoaRazaoSocial and cpf_service == cpf and cod_usuario == cart_con)):              \n",
    "                \n",
    "                print(nomePessoaRazaoSocial,nome or cpf_service != cpf or cod_usuario != cart_con)\n",
    "                input('VERIFICAR')   \n",
    "            else:\n",
    "                names.append(nomePessoaRazaoSocial)\n",
    "                cpfs.append(cpf_service)\n",
    "                cart_avanz.append(cart_cad_avanz)\n",
    "                cart_hapvida.append()\n",
    "                res_servico.append(cart_con)\n",
    "                print(\"ok\")     "
   ]
  },
  {
   "cell_type": "code",
   "execution_count": null,
   "metadata": {},
   "outputs": [],
   "source": []
  },
  {
   "cell_type": "code",
   "execution_count": null,
   "metadata": {},
   "outputs": [],
   "source": []
  },
  {
   "cell_type": "code",
   "execution_count": 61,
   "metadata": {},
   "outputs": [],
   "source": [
    "#Gerando tabela com resultados finais do tratamento\n",
    "data = pd.DataFrame({\"nomes\" : names,\"cpfs\" : cpfs,\"cart_avanz\" : cart_avanz,\"cart_hapvida\":cart_hapvida})\n",
    "data.to_excel(\"Resultados.xlsx\")"
   ]
  },
  {
   "cell_type": "code",
   "execution_count": null,
   "metadata": {},
   "outputs": [],
   "source": [
    "#Consultando api para obter valore\n",
    "base_url = \"http://app.hapvida.com.br/api/medprev/hapvida/medprevws/usuario/codigoUsuario/\"\n",
    "url = \"http://app.hapvida.com.br/api/medprev/hapvida/medprevws/usuario/codigoUsuario/035S5000003018\"\n",
    "response = rq.get(url)\n",
    "if(response.json()[\"sucesso\"] == True):\n",
    "    nomePessoaRazaoSocial = response.json()[\"conteudo\"]['pessoa']['nomePessoaRazaoSocial']\n",
    "    cpf_service = response.json()[\"conteudo\"]['pessoa']['cpf']\n",
    "    cod_usuario = response.json()[\"conteudo\"]['codigoUsuario']\n",
    "    print(nomePessoaRazaoSocial,cpf_service,cod_usuario)\n"
   ]
  },
  {
   "cell_type": "code",
   "execution_count": null,
   "metadata": {},
   "outputs": [],
   "source": []
  }
 ],
 "metadata": {
  "kernelspec": {
   "display_name": "Python 3",
   "language": "python",
   "name": "python3"
  },
  "language_info": {
   "codemirror_mode": {
    "name": "ipython",
    "version": 3
   },
   "file_extension": ".py",
   "mimetype": "text/x-python",
   "name": "python",
   "nbconvert_exporter": "python",
   "pygments_lexer": "ipython3",
   "version": "3.7.3"
  }
 },
 "nbformat": 4,
 "nbformat_minor": 2
}
